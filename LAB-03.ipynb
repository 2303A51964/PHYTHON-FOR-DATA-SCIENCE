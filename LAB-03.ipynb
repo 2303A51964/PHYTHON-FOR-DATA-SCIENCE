{
  "nbformat": 4,
  "nbformat_minor": 0,
  "metadata": {
    "colab": {
      "provenance": [],
      "authorship_tag": "ABX9TyOlXa5GtztewKHMTqJdtyIw",
      "include_colab_link": true
    },
    "kernelspec": {
      "name": "python3",
      "display_name": "Python 3"
    },
    "language_info": {
      "name": "python"
    }
  },
  "cells": [
    {
      "cell_type": "markdown",
      "metadata": {
        "id": "view-in-github",
        "colab_type": "text"
      },
      "source": [
        "<a href=\"https://colab.research.google.com/github/2303A51964/PHYTHON-FOR-DATA-SCIENCE/blob/main/LAB-03.ipynb\" target=\"_parent\"><img src=\"https://colab.research.google.com/assets/colab-badge.svg\" alt=\"Open In Colab\"/></a>"
      ]
    },
    {
      "cell_type": "code",
      "source": [
        "import numpy as np\n",
        "import matplotlib.pyplot as plt"
      ],
      "metadata": {
        "id": "onPzlFt1GzhX"
      },
      "execution_count": 18,
      "outputs": []
    },
    {
      "cell_type": "code",
      "source": [
        "scores = np.array([\n",
        "    [78, 85, 90, 95],\n",
        "    [88, 92, 80, 76],\n",
        "    [90, 87, 93, 89],\n",
        "    [65, 70, 72, 68]\n",
        "])\n",
        "\n",
        "row_mean = np.mean(scores, axis=1)\n",
        "print(\"\\nRow-wise Mean (Avg per student):\", row_mean)\n",
        "\n",
        "col_mean = np.mean(scores, axis=0)\n",
        "print(\"\\nColumn-wise Mean (Avg per test):\", col_mean)"
      ],
      "metadata": {
        "colab": {
          "base_uri": "https://localhost:8080/"
        },
        "id": "iQJeSv-oKSOB",
        "outputId": "e4b9f931-83df-40e5-e8b8-220ca7888b5a"
      },
      "execution_count": 19,
      "outputs": [
        {
          "output_type": "stream",
          "name": "stdout",
          "text": [
            "\n",
            "Row-wise Mean (Avg per student): [87.   84.   89.75 68.75]\n",
            "\n",
            "Column-wise Mean (Avg per test): [80.25 83.5  83.75 82.  ]\n"
          ]
        }
      ]
    },
    {
      "cell_type": "code",
      "source": [
        "row_std = np.std(scores, axis=1)\n",
        "row_var = np.var(scores, axis=1)\n",
        "print(\"\\nRow-wise Standard Deviation:\", row_std)\n",
        "print(\"Row-wise Variance:\", row_var)\n",
        "\n",
        "col_std = np.std(scores, axis=0)\n",
        "col_var = np.var(scores, axis=0)\n",
        "print(\"\\nColumn-wise Standard Deviation:\", col_std)\n",
        "print(\"Column-wise Variance:\", col_var)"
      ],
      "metadata": {
        "colab": {
          "base_uri": "https://localhost:8080/"
        },
        "id": "PmctIVq-KSKq",
        "outputId": "fba03fb4-fc4a-446e-cbed-37f3cc0d4e6c"
      },
      "execution_count": 20,
      "outputs": [
        {
          "output_type": "stream",
          "name": "stdout",
          "text": [
            "\n",
            "Row-wise Standard Deviation: [6.28490254 6.32455532 2.16506351 2.58602011]\n",
            "Row-wise Variance: [39.5    40.      4.6875  6.6875]\n",
            "\n",
            "Column-wise Standard Deviation: [ 9.90896059  8.20060973  8.31790238 10.60660172]\n",
            "Column-wise Variance: [ 98.1875  67.25    69.1875 112.5   ]\n"
          ]
        }
      ]
    },
    {
      "cell_type": "code",
      "source": [
        "global_max = np.max(scores)\n",
        "global_min = np.min(scores)\n",
        "print(\"\\nGlobal Max:\", global_max)\n",
        "print(\"Global Min:\", global_min)\n"
      ],
      "metadata": {
        "colab": {
          "base_uri": "https://localhost:8080/"
        },
        "id": "cxW9KScrKSH_",
        "outputId": "8ce0d620-1637-4492-97b5-1350b9f50d53"
      },
      "execution_count": 21,
      "outputs": [
        {
          "output_type": "stream",
          "name": "stdout",
          "text": [
            "\n",
            "Global Max: 95\n",
            "Global Min: 65\n"
          ]
        }
      ]
    },
    {
      "cell_type": "code",
      "source": [
        "max_idx = np.unravel_index(np.argmax(scores), scores.shape)\n",
        "min_idx = np.unravel_index(np.argmin(scores), scores.shape)\n",
        "print(\"Index of Global Max:\", max_idx)\n",
        "print(\"Index of Global Min:\", min_idx)"
      ],
      "metadata": {
        "colab": {
          "base_uri": "https://localhost:8080/"
        },
        "id": "2HaMsY5PLKFt",
        "outputId": "f0f3250e-2c5e-4cca-ceec-0ebaf8718731"
      },
      "execution_count": 22,
      "outputs": [
        {
          "output_type": "stream",
          "name": "stdout",
          "text": [
            "Index of Global Max: (np.int64(0), np.int64(3))\n",
            "Index of Global Min: (np.int64(3), np.int64(0))\n"
          ]
        }
      ]
    },
    {
      "cell_type": "code",
      "source": [
        "image = np.random.randint(0, 256, size=(3, 3, 3), dtype=np.uint8)\n",
        "\n",
        "print(\"Original RGB Image Matrix:\\n\", image)\n",
        "\n",
        "red_channel = image[:, :, 0]\n",
        "green_channel = image[:, :, 1]\n",
        "blue_channel = image[:, :, 2]\n",
        "\n",
        "print(\"\\nRed Channel:\\n\", red_channel)\n",
        "print(\"\\nGreen Channel:\\n\", green_channel)\n",
        "print(\"\\nBlue Channel:\\n\", blue_channel)\n",
        "\n"
      ],
      "metadata": {
        "colab": {
          "base_uri": "https://localhost:8080/"
        },
        "id": "fPZtKduKLKCI",
        "outputId": "a4372cc8-8a6e-45bb-f8da-28db181b8c02"
      },
      "execution_count": 23,
      "outputs": [
        {
          "output_type": "stream",
          "name": "stdout",
          "text": [
            "Original RGB Image Matrix:\n",
            " [[[162 252  83]\n",
            "  [ 27  62 121]\n",
            "  [253  44  19]]\n",
            "\n",
            " [[ 41  50 188]\n",
            "  [185 127  58]\n",
            "  [200  15  68]]\n",
            "\n",
            " [[122 119  95]\n",
            "  [146  20  46]\n",
            "  [235  33 236]]]\n",
            "\n",
            "Red Channel:\n",
            " [[162  27 253]\n",
            " [ 41 185 200]\n",
            " [122 146 235]]\n",
            "\n",
            "Green Channel:\n",
            " [[252  62  44]\n",
            " [ 50 127  15]\n",
            " [119  20  33]]\n",
            "\n",
            "Blue Channel:\n",
            " [[ 83 121  19]\n",
            " [188  58  68]\n",
            " [ 95  46 236]]\n"
          ]
        }
      ]
    },
    {
      "cell_type": "code",
      "source": [
        "avg_red = np.mean(red_channel)\n",
        "avg_green = np.mean(green_channel)\n",
        "avg_blue = np.mean(blue_channel)\n",
        "\n",
        "print(\"\\nAverage Red Intensity:\", avg_red)\n",
        "print(\"Average Green Intensity:\", avg_green)\n",
        "print(\"Average Blue Intensity:\", avg_blue)"
      ],
      "metadata": {
        "colab": {
          "base_uri": "https://localhost:8080/"
        },
        "id": "CMr2Lmv7LKAD",
        "outputId": "2b1324bd-a3bd-477f-9eac-a4aa307d7962"
      },
      "execution_count": 24,
      "outputs": [
        {
          "output_type": "stream",
          "name": "stdout",
          "text": [
            "\n",
            "Average Red Intensity: 152.33333333333334\n",
            "Average Green Intensity: 80.22222222222223\n",
            "Average Blue Intensity: 101.55555555555556\n"
          ]
        }
      ]
    },
    {
      "cell_type": "code",
      "source": [
        "brightened_image = np.clip(image + 50, 0, 255)\n",
        "\n",
        "print(\"\\nBrightened Image Matrix:\\n\", brightened_image)\n",
        "\n",
        "fig, axs = plt.subplots(1, 2, figsize=(8, 4))\n",
        "axs[0].imshow(image)\n",
        "axs[0].set_title('Original RGB Image')\n",
        "axs[0].axis('off')\n",
        "\n",
        "axs[1].imshow(brightened_image)\n",
        "axs[1].set_title('Brightened RGB Image')\n",
        "axs[1].axis('off')\n",
        "\n",
        "plt.tight_layout()\n",
        "plt.show()"
      ],
      "metadata": {
        "colab": {
          "base_uri": "https://localhost:8080/",
          "height": 646
        },
        "id": "UnDCOhC9LJ90",
        "outputId": "2e9d2beb-5eb3-47d5-a08b-316443a2536f"
      },
      "execution_count": 25,
      "outputs": [
        {
          "output_type": "stream",
          "name": "stdout",
          "text": [
            "\n",
            "Brightened Image Matrix:\n",
            " [[[212  46 133]\n",
            "  [ 77 112 171]\n",
            "  [ 47  94  69]]\n",
            "\n",
            " [[ 91 100 238]\n",
            "  [235 177 108]\n",
            "  [250  65 118]]\n",
            "\n",
            " [[172 169 145]\n",
            "  [196  70  96]\n",
            "  [ 29  83  30]]]\n"
          ]
        },
        {
          "output_type": "display_data",
          "data": {
            "text/plain": [
              "<Figure size 800x400 with 2 Axes>"
            ],
            "image/png": "[encoded data removed]"
          },
          "metadata": {}
        }
      ]
    }
  ]
}